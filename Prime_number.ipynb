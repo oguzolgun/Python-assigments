{
  "nbformat": 4,
  "nbformat_minor": 0,
  "metadata": {
    "colab": {
      "name": "Untitled9.ipynb",
      "provenance": [],
      "authorship_tag": "ABX9TyPLnplHrRyM+WxNS/zPa8Mw",
      "include_colab_link": true
    },
    "kernelspec": {
      "name": "python3",
      "display_name": "Python 3"
    },
    "language_info": {
      "name": "python"
    }
  },
  "cells": [
    {
      "cell_type": "markdown",
      "metadata": {
        "id": "view-in-github",
        "colab_type": "text"
      },
      "source": [
        "<a href=\"https://colab.research.google.com/github/oguzolgun/Python-assigments/blob/main/Prime_number.ipynb\" target=\"_parent\"><img src=\"https://colab.research.google.com/assets/colab-badge.svg\" alt=\"Open In Colab\"/></a>"
      ]
    },
    {
      "cell_type": "code",
      "metadata": {
        "colab": {
          "base_uri": "https://localhost:8080/"
        },
        "id": "oPPtqNqNan92",
        "outputId": "ffac5f30-e429-47f2-960a-a85904309cdd"
      },
      "source": [
        "n = int(input(\"enter a positive number to check if it is a prime number\"))\n",
        "counter = 0\n",
        "for i in range(1,n+1):\n",
        " if n % i == 0:\n",
        "   counter += 1\n",
        "if (n == 0) or (n == 1) or (counter >= 3):\n",
        "  print(n,\" is not a prime number\")\n",
        "else:\n",
        "  print(n, \"is a prime number\")"
      ],
      "execution_count": 1,
      "outputs": [
        {
          "output_type": "stream",
          "name": "stdout",
          "text": [
            "enter a positive number to check if it is a prime number2\n",
            "2 is a prime number\n"
          ]
        }
      ]
    }
  ]
}