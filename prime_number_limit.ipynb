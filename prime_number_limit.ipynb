{
  "nbformat": 4,
  "nbformat_minor": 0,
  "metadata": {
    "colab": {
      "name": "prime number/limit.ipynb",
      "provenance": [],
      "authorship_tag": "ABX9TyM+De6zgRyo0FWlYFZR8IPG",
      "include_colab_link": true
    },
    "kernelspec": {
      "name": "python3",
      "display_name": "Python 3"
    },
    "language_info": {
      "name": "python"
    }
  },
  "cells": [
    {
      "cell_type": "markdown",
      "metadata": {
        "id": "view-in-github",
        "colab_type": "text"
      },
      "source": [
        "<a href=\"https://colab.research.google.com/github/oguzolgun/Python-assigments/blob/main/prime_number_limit.ipynb\" target=\"_parent\"><img src=\"https://colab.research.google.com/assets/colab-badge.svg\" alt=\"Open In Colab\"/></a>"
      ]
    },
    {
      "cell_type": "code",
      "metadata": {
        "id": "JAy_9saWJNzy"
      },
      "source": [
        "n = int(input(\"kaça kadar asal sayı yazdırmak istiyorsunuz\"))\n",
        "liste = [2]\n",
        "for i in range(3,n+1):\n",
        "    for j in range(2,i):\n",
        "      if i % j ==0:\n",
        "       break\n",
        "    else:\n",
        "     liste.append(i)\n",
        "print(liste)"
      ],
      "execution_count": null,
      "outputs": []
    }
  ]
}