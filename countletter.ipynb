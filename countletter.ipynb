{
  "nbformat": 4,
  "nbformat_minor": 0,
  "metadata": {
    "colab": {
      "name": "countletter.ipynb",
      "provenance": [],
      "authorship_tag": "ABX9TyNlathAhyvVCdDin3ZAnqX8",
      "include_colab_link": true
    },
    "kernelspec": {
      "name": "python3",
      "display_name": "Python 3"
    },
    "language_info": {
      "name": "python"
    }
  },
  "cells": [
    {
      "cell_type": "markdown",
      "metadata": {
        "id": "view-in-github",
        "colab_type": "text"
      },
      "source": [
        "<a href=\"https://colab.research.google.com/github/oguzolgun/Python-assigments/blob/main/countletter.ipynb\" target=\"_parent\"><img src=\"https://colab.research.google.com/assets/colab-badge.svg\" alt=\"Open In Colab\"/></a>"
      ]
    },
    {
      "cell_type": "code",
      "source": [
        "a = input(\"Enter your sentence: \")\n",
        "harf = sorted(set(a))\n",
        "count = list()\n",
        "for i in range(len(harf)):\n",
        "    count.append(a.count(harf[i]))\n",
        "dic = dict(zip(harf,counts))\n",
        "print(dic)"
      ],
      "metadata": {
        "colab": {
          "base_uri": "https://localhost:8080/"
        },
        "id": "iZuEiQf943dg",
        "outputId": "0f238038-1f03-4262-b77f-641997877c99"
      },
      "execution_count": 14,
      "outputs": [
        {
          "output_type": "stream",
          "name": "stdout",
          "text": [
            "Enter your sentence: klşlnmknm,,\n",
            "{',': 2, 'k': 2, 'l': 2, 'm': 2, 'n': 2, 'ş': 1}\n"
          ]
        }
      ]
    }
  ]
}