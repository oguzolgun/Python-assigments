{
  "nbformat": 4,
  "nbformat_minor": 0,
  "metadata": {
    "colab": {
      "name": "fibonacci(1to55).ipynb",
      "provenance": [],
      "authorship_tag": "ABX9TyN9ItVpTv4b6Y9NCd/b7EYl",
      "include_colab_link": true
    },
    "kernelspec": {
      "name": "python3",
      "display_name": "Python 3"
    },
    "language_info": {
      "name": "python"
    }
  },
  "cells": [
    {
      "cell_type": "markdown",
      "metadata": {
        "id": "view-in-github",
        "colab_type": "text"
      },
      "source": [
        "<a href=\"https://colab.research.google.com/github/oguzolgun/Python-assigments/blob/main/fibonacci(1to55).ipynb\" target=\"_parent\"><img src=\"https://colab.research.google.com/assets/colab-badge.svg\" alt=\"Open In Colab\"/></a>"
      ]
    },
    {
      "cell_type": "code",
      "metadata": {
        "colab": {
          "base_uri": "https://localhost:8080/"
        },
        "id": "1fiCngUWeWKB",
        "outputId": "086a5cda-6dac-4b21-e475-1a17976694d2"
      },
      "source": [
        "list=[1]\n",
        "a=0\n",
        "b=1\n",
        "for i in range(9):\n",
        "    c = a+b\n",
        "    a = b\n",
        "    b = c\n",
        "    list.append(b)\n",
        "print(list) "
      ],
      "execution_count": 1,
      "outputs": [
        {
          "output_type": "stream",
          "name": "stdout",
          "text": [
            "[1, 1, 2, 3, 5, 8, 13, 21, 34, 55]\n"
          ]
        }
      ]
    }
  ]
}