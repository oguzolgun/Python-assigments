{
  "nbformat": 4,
  "nbformat_minor": 0,
  "metadata": {
    "colab": {
      "name": "FizzBuzz.ipynb",
      "provenance": [],
      "authorship_tag": "ABX9TyNBzarAz8hiO2G5McxsOlZR",
      "include_colab_link": true
    },
    "kernelspec": {
      "name": "python3",
      "display_name": "Python 3"
    },
    "language_info": {
      "name": "python"
    }
  },
  "cells": [
    {
      "cell_type": "markdown",
      "metadata": {
        "id": "view-in-github",
        "colab_type": "text"
      },
      "source": [
        "<a href=\"https://colab.research.google.com/github/oguzolgun/Python-assigments/blob/main/FizzBuzz.ipynb\" target=\"_parent\"><img src=\"https://colab.research.google.com/assets/colab-badge.svg\" alt=\"Open In Colab\"/></a>"
      ]
    },
    {
      "cell_type": "code",
      "execution_count": null,
      "metadata": {
        "id": "vWvTrJ66sXP-"
      },
      "outputs": [],
      "source": [
        "def fizz_buzz(maximum):\n",
        "  lst = list(range(1,maximum+1))\n",
        "  for i in lst:\n",
        "    if not i % 15:\n",
        "      lst[lst.index(i)] = \"FizzBuzz\"\n",
        "    elif not i%5:\n",
        "      lst[lst.index(i)] = \"Buzz\"\n",
        "    elif not i%3:  \n",
        "      lst[lst.index(i)] = \"Fizz\"\n",
        "  return lst\n",
        "print(fizz_buzz(15))"
      ]
    }
  ]
}